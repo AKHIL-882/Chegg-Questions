{
  "nbformat": 4,
  "nbformat_minor": 0,
  "metadata": {
    "colab": {
      "name": "Sandhya Major Project.ipynb",
      "provenance": [],
      "collapsed_sections": []
    },
    "kernelspec": {
      "name": "python3",
      "display_name": "Python 3"
    },
    "language_info": {
      "name": "python"
    }
  },
  "cells": [
    {
      "cell_type": "code",
      "execution_count": 29,
      "metadata": {
        "colab": {
          "base_uri": "https://localhost:8080/"
        },
        "id": "72h9kEswPJDO",
        "outputId": "91fd8371-6a81-4680-f33b-6cb620b47ba6"
      },
      "outputs": [
        {
          "output_type": "stream",
          "name": "stdout",
          "text": [
            "Enter credit card number: 4532015112830366\n",
            "The final token for the given credit card number is:  246196\n"
          ]
        }
      ],
      "source": [
        "# importing the modules\n",
        "import numpy\n",
        "from functools import reduce\n",
        "# function to check whether the credit number is correct or nor\n",
        "def luhn_checksum(card_number):\n",
        "    # finding the digits\n",
        "    def digits_of(n):\n",
        "        return [int(d) for d in str(n)]\n",
        "    digits = digits_of(card_number)\n",
        "    # finding the odd digits\n",
        "    odd_digits = digits[-1::-2]\n",
        "    # finding the even digits\n",
        "    even_digits = digits[-2::-2]\n",
        "    checksum = 0\n",
        "    checksum += sum(odd_digits)\n",
        "    for d in even_digits:\n",
        "        # calculating the checksum\n",
        "        checksum += sum(digits_of(d*2))\n",
        "    return checksum % 10\n",
        "  \n",
        "# variable to store the final token\n",
        "finalToken = \"\"\n",
        "# getting credit card form user\n",
        "cardNumber = input(\"Enter credit card number: \")\n",
        "\n",
        "# checking credit card is valid or not\n",
        "if luhn_checksum(cardNumber)==0:\n",
        "    # spliting the card number into two list\n",
        "    cardNUmberLeft = cardNumber[0:8]\n",
        "    cardNUmberRight = cardNumber[8:]\n",
        "    # performing operation of first 4 digits of card number\n",
        "    cardNUmberLeftSubFirstSum = sum(list([int(i) for i in cardNUmberLeft[0:3]]))\n",
        "    cardNUmberLeftSubFirstRes = int(cardNUmberLeftSubFirstSum) * int(cardNUmberLeft[3:4])\n",
        "    finalToken = finalToken+str(cardNUmberLeftSubFirstRes)\n",
        "    # performing operation of second 4 digits of card number\n",
        "    cardNUmberLeftSubSecondSum = sum(list([int(i) for i in cardNUmberLeft[4:7]]))\n",
        "    cardNUmberLeftSubSecondRes = int(cardNUmberLeftSubSecondSum) * int(cardNUmberLeft[7:8])\n",
        "    finalToken = finalToken+str(cardNUmberLeftSubSecondRes)\n",
        "    # performing operation of third 4 digits of card number\n",
        "    cardNUmberRightFirstProd = numpy.prod([int(i) for i in cardNUmberRight[0:3]])\n",
        "    cardNUmberRightFirstProdRes = int(cardNUmberRightFirstProd)+ int(cardNUmberRight[3])\n",
        "    finalToken = finalToken+str(cardNUmberRightFirstProdRes)\n",
        "    # performing operation of last 4 digits of card number\n",
        "    cardNUmberRightSecondProd = numpy.prod([int(i) for i in cardNUmberRight[4:7]])\n",
        "    cardNUmberRightSecondProdRes = int(cardNUmberRightSecondProd)+ int(cardNUmberRight[7])\n",
        "    finalToken = finalToken+str(cardNUmberRightSecondProdRes)\n",
        "    # displaying the token to the user\n",
        "    print(\"The final token for the given credit card number is: \", finalToken)\n",
        "else:\n",
        "    print('Invalid')\n"
      ]
    },
    {
      "cell_type": "code",
      "source": [
        ""
      ],
      "metadata": {
        "id": "ELeVjjlVPP7-"
      },
      "execution_count": null,
      "outputs": []
    }
  ]
}
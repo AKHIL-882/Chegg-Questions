{
  "nbformat": 4,
  "nbformat_minor": 0,
  "metadata": {
    "colab": {
      "name": "Untitled68.ipynb",
      "provenance": [],
      "collapsed_sections": []
    },
    "kernelspec": {
      "display_name": "Python 3",
      "name": "python3"
    },
    "language_info": {
      "name": "python"
    }
  },
  "cells": [
    {
      "cell_type": "code",
      "metadata": {
        "id": "DOze0f6xV84S",
        "colab": {
          "base_uri": "https://localhost:8080/"
        },
        "outputId": "0fdebfb4-25e3-462c-c5e6-318d19c42d48"
      },
      "source": [
        "# getting the string from the user\n",
        "userString = input()\n",
        "# converting into lower case\n",
        "lowerStr = userString.lower()\n",
        "# checking the color is green or not\n",
        "if(lowerStr == 'green'):\n",
        "  print(f'Your string precedes {lowerStr}')\n",
        "# checking the color is red or not\n",
        "elif(lowerStr == 'red'):\n",
        "  print(f'Your string precedes {lowerStr}')\n",
        "# checking the color is yellow or not\n",
        "elif(lowerStr == 'yellow'):\n",
        "  print(f'Your string precedes {lowerStr}')\n",
        "# printing the color 3 times without spaces\n",
        "else:\n",
        "  print(lowerStr*3);"
      ],
      "execution_count": 11,
      "outputs": [
        {
          "output_type": "stream",
          "name": "stdout",
          "text": [
            "pink\n",
            "pinkpinkpink\n"
          ]
        }
      ]
    },
    {
      "cell_type": "code",
      "metadata": {
        "id": "s2ICzx91XIOx"
      },
      "source": [
        ""
      ],
      "execution_count": null,
      "outputs": []
    }
  ]
}
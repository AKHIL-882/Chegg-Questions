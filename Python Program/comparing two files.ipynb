{
  "nbformat": 4,
  "nbformat_minor": 0,
  "metadata": {
    "colab": {
      "name": "Untitled68.ipynb",
      "provenance": [],
      "collapsed_sections": []
    },
    "kernelspec": {
      "display_name": "Python 3",
      "name": "python3"
    },
    "language_info": {
      "name": "python"
    }
  },
  "cells": [
    {
      "cell_type": "code",
      "source": [
        "from difflib import Differ\n",
        "  \n",
        "with open('file1.txt') as file_1, open('file2.txt') as file_2:\n",
        "    differ = Differ()\n",
        "  \n",
        "    for line in differ.compare(file_1.readlines(), file_2.readlines()):\n",
        "        print(line)"
      ],
      "metadata": {
        "colab": {
          "base_uri": "https://localhost:8080/"
        },
        "id": "wSax7q-sEsvZ",
        "outputId": "28368789-3673-4e52-a2e9-e1dcc76fd3af"
      },
      "execution_count": 48,
      "outputs": [
        {
          "output_type": "stream",
          "name": "stdout",
          "text": [
            "  apple\n",
            "\n",
            "  cat\n",
            "\n",
            "- boll\n",
            "+ boll\n",
            "\n",
            "?     +\n",
            "\n",
            "+ doll\n"
          ]
        }
      ]
    },
    {
      "cell_type": "code",
      "source": [
        ""
      ],
      "metadata": {
        "id": "rnREVcWdFDZN"
      },
      "execution_count": null,
      "outputs": []
    }
  ]
}